{
 "cells": [
  {
   "cell_type": "markdown",
   "metadata": {},
   "source": [
    "# week02作业\n",
    "1. 设计一款你觉得需要的人脸功能的产品(或者其他产品)。\n",
    "2. 尝试使用不同的API开放平台去实现（希望一定有Azure）：（可以不是人脸检测，可以更好的内容）\n",
    "3. 做出来数据结构化的表格，去阐述你的功能附加加值。\n",
    "4. 放到github上边\n",
    "\n",
    "根据以上作业要求，设计以下产品：\n",
    "* 身份认证检测仪：通过人脸识别检测身份、年龄。\n",
    "* 适用场所：一切禁止未成年人进入的场所。\n",
    "* 使用：检测身份证是否与本人匹配，本人年龄是否满足18周岁。\n",
    "\n"
   ]
  },
  {
   "cell_type": "markdown",
   "metadata": {},
   "source": [
    "# 使用Azure API实现\n",
    "* [人脸文档](https://docs.microsoft.com/zh-cn/azure/cognitive-services/face/)\n",
    "* [人脸 API v1.0文档](https://westus.dev.cognitive.microsoft.com/docs/services/563879b61984550e40cbbe8d/operations/563879b61984550f30395236)"
   ]
  },
  {
   "cell_type": "code",
   "execution_count": 193,
   "metadata": {},
   "outputs": [],
   "source": [
    "# 导入需要的requests模块\n",
    "import requests\n",
    "import json"
   ]
  },
  {
   "cell_type": "code",
   "execution_count": 194,
   "metadata": {},
   "outputs": [],
   "source": [
    "# 输入我们需要API网站注册的API_Key\n",
    "KEY = '0a75abfcc97f4ace82aa4ceb4f87778a' "
   ]
  },
  {
   "cell_type": "markdown",
   "metadata": {},
   "source": [
    "### requests url\n",
    "* https://{endpoint}/face/v1.0/detect[?returnFaceId][&returnFaceLandmarks][&returnFaceAttributes][&recognitionModel][&returnRecognitionModel][&detectionModel]\n",
    "* /face/v1.0/detect ==>  /人脸检测根目录"
   ]
  },
  {
   "cell_type": "code",
   "execution_count": 195,
   "metadata": {},
   "outputs": [],
   "source": [
    "BASE_URL = 'https://westcentralus.api.cognitive.microsoft.com/face/v1.0/detect' \n",
    "# westcentralus.api.cognitive.microsoft.com ==> endpoint"
   ]
  },
  {
   "cell_type": "code",
   "execution_count": 196,
   "metadata": {},
   "outputs": [],
   "source": [
    "# 沿用API的示范代碼，{subscription key}用KEY代入\n",
    "HEADERS = {\n",
    "    'Content-Type': 'application/json',\n",
    "    'Ocp-Apim-Subscription-Key': '{}'.format(KEY),   \n",
    "}\n",
    "img_url = 'https://ss1.bdstatic.com/70cFvXSh_Q1YnxGkpoWK1HF6hhy/it/u=895667226,563348569&fm=26&gp=0.jpg'\n",
    "#img_url = 'http://newmedia.nfu.edu.cn/wcy/wp-content/uploads/2018/04/post_20180424__NFU_DoraHacks_imoji%E5%9B%A2%E9%98%9F.jpg'"
   ]
  },
  {
   "cell_type": "code",
   "execution_count": 197,
   "metadata": {},
   "outputs": [],
   "source": [
    "data = {\n",
    "    'url': '{}'.format(img_url),\n",
    "}\n",
    "payload = {\n",
    "    'returnFaceId': 'true',\n",
    "    'returnFaceLandmarks': 'flase',\n",
    "    'returnFaceAttributes': '{}'.format('age,gender,glasses,emotion'), \n",
    "}"
   ]
  },
  {
   "cell_type": "code",
   "execution_count": 198,
   "metadata": {},
   "outputs": [],
   "source": [
    "r = requests.post(BASE_URL,data=json.dumps(data),params = payload,headers=HEADERS)"
   ]
  },
  {
   "cell_type": "code",
   "execution_count": 199,
   "metadata": {},
   "outputs": [
    {
     "data": {
      "text/plain": [
       "200"
      ]
     },
     "execution_count": 199,
     "metadata": {},
     "output_type": "execute_result"
    }
   ],
   "source": [
    "r.status_code"
   ]
  },
  {
   "cell_type": "code",
   "execution_count": 200,
   "metadata": {},
   "outputs": [
    {
     "data": {
      "text/plain": [
       "b'[{\"faceId\":\"b97d4fb9-1899-418b-acf3-4dece6716067\",\"faceRectangle\":{\"top\":49,\"left\":49,\"width\":48,\"height\":48},\"faceAttributes\":{\"gender\":\"male\",\"age\":19.0,\"glasses\":\"NoGlasses\",\"emotion\":{\"anger\":0.0,\"contempt\":0.0,\"disgust\":0.0,\"fear\":0.0,\"happiness\":0.951,\"neutral\":0.049,\"sadness\":0.0,\"surprise\":0.0}}},{\"faceId\":\"d083c07a-8a40-4aed-8cd4-a6b609bc44a7\",\"faceRectangle\":{\"top\":66,\"left\":354,\"width\":44,\"height\":44},\"faceAttributes\":{\"gender\":\"male\",\"age\":19.0,\"glasses\":\"NoGlasses\",\"emotion\":{\"anger\":0.0,\"contempt\":0.0,\"disgust\":0.0,\"fear\":0.0,\"happiness\":0.998,\"neutral\":0.002,\"sadness\":0.0,\"surprise\":0.0}}},{\"faceId\":\"dd5f3c71-8d3f-4fe7-8095-7cbbb3172802\",\"faceRectangle\":{\"top\":90,\"left\":138,\"width\":42,\"height\":42},\"faceAttributes\":{\"gender\":\"female\",\"age\":21.0,\"glasses\":\"NoGlasses\",\"emotion\":{\"anger\":0.0,\"contempt\":0.0,\"disgust\":0.0,\"fear\":0.0,\"happiness\":1.0,\"neutral\":0.0,\"sadness\":0.0,\"surprise\":0.0}}},{\"faceId\":\"11cd542d-9df6-4eb8-b8f2-0208a9553d35\",\"faceRectangle\":{\"top\":92,\"left\":241,\"width\":40,\"height\":40},\"faceAttributes\":{\"gender\":\"female\",\"age\":20.0,\"glasses\":\"NoGlasses\",\"emotion\":{\"anger\":0.0,\"contempt\":0.0,\"disgust\":0.0,\"fear\":0.0,\"happiness\":0.011,\"neutral\":0.987,\"sadness\":0.002,\"surprise\":0.001}}}]'"
      ]
     },
     "execution_count": 200,
     "metadata": {},
     "output_type": "execute_result"
    }
   ],
   "source": [
    "r.content"
   ]
  },
  {
   "cell_type": "code",
   "execution_count": 201,
   "metadata": {},
   "outputs": [
    {
     "data": {
      "text/plain": [
       "[{'faceId': 'b97d4fb9-1899-418b-acf3-4dece6716067',\n",
       "  'faceRectangle': {'top': 49, 'left': 49, 'width': 48, 'height': 48},\n",
       "  'faceAttributes': {'gender': 'male',\n",
       "   'age': 19.0,\n",
       "   'glasses': 'NoGlasses',\n",
       "   'emotion': {'anger': 0.0,\n",
       "    'contempt': 0.0,\n",
       "    'disgust': 0.0,\n",
       "    'fear': 0.0,\n",
       "    'happiness': 0.951,\n",
       "    'neutral': 0.049,\n",
       "    'sadness': 0.0,\n",
       "    'surprise': 0.0}}},\n",
       " {'faceId': 'd083c07a-8a40-4aed-8cd4-a6b609bc44a7',\n",
       "  'faceRectangle': {'top': 66, 'left': 354, 'width': 44, 'height': 44},\n",
       "  'faceAttributes': {'gender': 'male',\n",
       "   'age': 19.0,\n",
       "   'glasses': 'NoGlasses',\n",
       "   'emotion': {'anger': 0.0,\n",
       "    'contempt': 0.0,\n",
       "    'disgust': 0.0,\n",
       "    'fear': 0.0,\n",
       "    'happiness': 0.998,\n",
       "    'neutral': 0.002,\n",
       "    'sadness': 0.0,\n",
       "    'surprise': 0.0}}},\n",
       " {'faceId': 'dd5f3c71-8d3f-4fe7-8095-7cbbb3172802',\n",
       "  'faceRectangle': {'top': 90, 'left': 138, 'width': 42, 'height': 42},\n",
       "  'faceAttributes': {'gender': 'female',\n",
       "   'age': 21.0,\n",
       "   'glasses': 'NoGlasses',\n",
       "   'emotion': {'anger': 0.0,\n",
       "    'contempt': 0.0,\n",
       "    'disgust': 0.0,\n",
       "    'fear': 0.0,\n",
       "    'happiness': 1.0,\n",
       "    'neutral': 0.0,\n",
       "    'sadness': 0.0,\n",
       "    'surprise': 0.0}}},\n",
       " {'faceId': '11cd542d-9df6-4eb8-b8f2-0208a9553d35',\n",
       "  'faceRectangle': {'top': 92, 'left': 241, 'width': 40, 'height': 40},\n",
       "  'faceAttributes': {'gender': 'female',\n",
       "   'age': 20.0,\n",
       "   'glasses': 'NoGlasses',\n",
       "   'emotion': {'anger': 0.0,\n",
       "    'contempt': 0.0,\n",
       "    'disgust': 0.0,\n",
       "    'fear': 0.0,\n",
       "    'happiness': 0.011,\n",
       "    'neutral': 0.987,\n",
       "    'sadness': 0.002,\n",
       "    'surprise': 0.001}}}]"
      ]
     },
     "execution_count": 201,
     "metadata": {},
     "output_type": "execute_result"
    }
   ],
   "source": [
    "r.json()"
   ]
  },
  {
   "cell_type": "code",
   "execution_count": 202,
   "metadata": {},
   "outputs": [
    {
     "data": {
      "text/plain": [
       "[{'faceId': 'b97d4fb9-1899-418b-acf3-4dece6716067',\n",
       "  'faceRectangle': {'top': 49, 'left': 49, 'width': 48, 'height': 48},\n",
       "  'faceAttributes': {'gender': 'male',\n",
       "   'age': 19.0,\n",
       "   'glasses': 'NoGlasses',\n",
       "   'emotion': {'anger': 0.0,\n",
       "    'contempt': 0.0,\n",
       "    'disgust': 0.0,\n",
       "    'fear': 0.0,\n",
       "    'happiness': 0.951,\n",
       "    'neutral': 0.049,\n",
       "    'sadness': 0.0,\n",
       "    'surprise': 0.0}}},\n",
       " {'faceId': 'd083c07a-8a40-4aed-8cd4-a6b609bc44a7',\n",
       "  'faceRectangle': {'top': 66, 'left': 354, 'width': 44, 'height': 44},\n",
       "  'faceAttributes': {'gender': 'male',\n",
       "   'age': 19.0,\n",
       "   'glasses': 'NoGlasses',\n",
       "   'emotion': {'anger': 0.0,\n",
       "    'contempt': 0.0,\n",
       "    'disgust': 0.0,\n",
       "    'fear': 0.0,\n",
       "    'happiness': 0.998,\n",
       "    'neutral': 0.002,\n",
       "    'sadness': 0.0,\n",
       "    'surprise': 0.0}}},\n",
       " {'faceId': 'dd5f3c71-8d3f-4fe7-8095-7cbbb3172802',\n",
       "  'faceRectangle': {'top': 90, 'left': 138, 'width': 42, 'height': 42},\n",
       "  'faceAttributes': {'gender': 'female',\n",
       "   'age': 21.0,\n",
       "   'glasses': 'NoGlasses',\n",
       "   'emotion': {'anger': 0.0,\n",
       "    'contempt': 0.0,\n",
       "    'disgust': 0.0,\n",
       "    'fear': 0.0,\n",
       "    'happiness': 1.0,\n",
       "    'neutral': 0.0,\n",
       "    'sadness': 0.0,\n",
       "    'surprise': 0.0}}},\n",
       " {'faceId': '11cd542d-9df6-4eb8-b8f2-0208a9553d35',\n",
       "  'faceRectangle': {'top': 92, 'left': 241, 'width': 40, 'height': 40},\n",
       "  'faceAttributes': {'gender': 'female',\n",
       "   'age': 20.0,\n",
       "   'glasses': 'NoGlasses',\n",
       "   'emotion': {'anger': 0.0,\n",
       "    'contempt': 0.0,\n",
       "    'disgust': 0.0,\n",
       "    'fear': 0.0,\n",
       "    'happiness': 0.011,\n",
       "    'neutral': 0.987,\n",
       "    'sadness': 0.002,\n",
       "    'surprise': 0.001}}}]"
      ]
     },
     "execution_count": 202,
     "metadata": {},
     "output_type": "execute_result"
    }
   ],
   "source": [
    "r = requests.post(BASE_URL, data=json.dumps(data), params=payload, headers=HEADERS)\n",
    "\n",
    "r.status_code\n",
    "r.json()"
   ]
  },
  {
   "cell_type": "code",
   "execution_count": 203,
   "metadata": {},
   "outputs": [
    {
     "data": {
      "text/plain": [
       "[{'faceId': 'b97d4fb9-1899-418b-acf3-4dece6716067',\n",
       "  'faceRectangle': {'top': 49, 'left': 49, 'width': 48, 'height': 48},\n",
       "  'faceAttributes': {'gender': 'male',\n",
       "   'age': 19.0,\n",
       "   'glasses': 'NoGlasses',\n",
       "   'emotion': {'anger': 0.0,\n",
       "    'contempt': 0.0,\n",
       "    'disgust': 0.0,\n",
       "    'fear': 0.0,\n",
       "    'happiness': 0.951,\n",
       "    'neutral': 0.049,\n",
       "    'sadness': 0.0,\n",
       "    'surprise': 0.0}}},\n",
       " {'faceId': 'd083c07a-8a40-4aed-8cd4-a6b609bc44a7',\n",
       "  'faceRectangle': {'top': 66, 'left': 354, 'width': 44, 'height': 44},\n",
       "  'faceAttributes': {'gender': 'male',\n",
       "   'age': 19.0,\n",
       "   'glasses': 'NoGlasses',\n",
       "   'emotion': {'anger': 0.0,\n",
       "    'contempt': 0.0,\n",
       "    'disgust': 0.0,\n",
       "    'fear': 0.0,\n",
       "    'happiness': 0.998,\n",
       "    'neutral': 0.002,\n",
       "    'sadness': 0.0,\n",
       "    'surprise': 0.0}}},\n",
       " {'faceId': 'dd5f3c71-8d3f-4fe7-8095-7cbbb3172802',\n",
       "  'faceRectangle': {'top': 90, 'left': 138, 'width': 42, 'height': 42},\n",
       "  'faceAttributes': {'gender': 'female',\n",
       "   'age': 21.0,\n",
       "   'glasses': 'NoGlasses',\n",
       "   'emotion': {'anger': 0.0,\n",
       "    'contempt': 0.0,\n",
       "    'disgust': 0.0,\n",
       "    'fear': 0.0,\n",
       "    'happiness': 1.0,\n",
       "    'neutral': 0.0,\n",
       "    'sadness': 0.0,\n",
       "    'surprise': 0.0}}},\n",
       " {'faceId': '11cd542d-9df6-4eb8-b8f2-0208a9553d35',\n",
       "  'faceRectangle': {'top': 92, 'left': 241, 'width': 40, 'height': 40},\n",
       "  'faceAttributes': {'gender': 'female',\n",
       "   'age': 20.0,\n",
       "   'glasses': 'NoGlasses',\n",
       "   'emotion': {'anger': 0.0,\n",
       "    'contempt': 0.0,\n",
       "    'disgust': 0.0,\n",
       "    'fear': 0.0,\n",
       "    'happiness': 0.011,\n",
       "    'neutral': 0.987,\n",
       "    'sadness': 0.002,\n",
       "    'surprise': 0.001}}}]"
      ]
     },
     "execution_count": 203,
     "metadata": {},
     "output_type": "execute_result"
    }
   ],
   "source": [
    "results = r.json()\n",
    "results"
   ]
  },
  {
   "cell_type": "code",
   "execution_count": 204,
   "metadata": {},
   "outputs": [],
   "source": [
    "import pandas as pd\n",
    "from pandas.io.json import json_normalize"
   ]
  },
  {
   "cell_type": "code",
   "execution_count": 205,
   "metadata": {},
   "outputs": [],
   "source": [
    "df = pd.io.json.json_normalize(results)"
   ]
  },
  {
   "cell_type": "code",
   "execution_count": 206,
   "metadata": {},
   "outputs": [
    {
     "data": {
      "text/html": [
       "<div>\n",
       "<style scoped>\n",
       "    .dataframe tbody tr th:only-of-type {\n",
       "        vertical-align: middle;\n",
       "    }\n",
       "\n",
       "    .dataframe tbody tr th {\n",
       "        vertical-align: top;\n",
       "    }\n",
       "\n",
       "    .dataframe thead th {\n",
       "        text-align: right;\n",
       "    }\n",
       "</style>\n",
       "<table border=\"1\" class=\"dataframe\">\n",
       "  <thead>\n",
       "    <tr style=\"text-align: right;\">\n",
       "      <th></th>\n",
       "      <th>faceAttributes.age</th>\n",
       "      <th>faceAttributes.emotion.anger</th>\n",
       "      <th>faceAttributes.emotion.contempt</th>\n",
       "      <th>faceAttributes.emotion.disgust</th>\n",
       "      <th>faceAttributes.emotion.fear</th>\n",
       "      <th>faceAttributes.emotion.happiness</th>\n",
       "      <th>faceAttributes.emotion.neutral</th>\n",
       "      <th>faceAttributes.emotion.sadness</th>\n",
       "      <th>faceAttributes.emotion.surprise</th>\n",
       "      <th>faceAttributes.gender</th>\n",
       "      <th>faceAttributes.glasses</th>\n",
       "      <th>faceId</th>\n",
       "      <th>faceRectangle.height</th>\n",
       "      <th>faceRectangle.left</th>\n",
       "      <th>faceRectangle.top</th>\n",
       "      <th>faceRectangle.width</th>\n",
       "    </tr>\n",
       "  </thead>\n",
       "  <tbody>\n",
       "    <tr>\n",
       "      <th>0</th>\n",
       "      <td>19.0</td>\n",
       "      <td>0.0</td>\n",
       "      <td>0.0</td>\n",
       "      <td>0.0</td>\n",
       "      <td>0.0</td>\n",
       "      <td>0.951</td>\n",
       "      <td>0.049</td>\n",
       "      <td>0.000</td>\n",
       "      <td>0.000</td>\n",
       "      <td>male</td>\n",
       "      <td>NoGlasses</td>\n",
       "      <td>b97d4fb9-1899-418b-acf3-4dece6716067</td>\n",
       "      <td>48</td>\n",
       "      <td>49</td>\n",
       "      <td>49</td>\n",
       "      <td>48</td>\n",
       "    </tr>\n",
       "    <tr>\n",
       "      <th>1</th>\n",
       "      <td>19.0</td>\n",
       "      <td>0.0</td>\n",
       "      <td>0.0</td>\n",
       "      <td>0.0</td>\n",
       "      <td>0.0</td>\n",
       "      <td>0.998</td>\n",
       "      <td>0.002</td>\n",
       "      <td>0.000</td>\n",
       "      <td>0.000</td>\n",
       "      <td>male</td>\n",
       "      <td>NoGlasses</td>\n",
       "      <td>d083c07a-8a40-4aed-8cd4-a6b609bc44a7</td>\n",
       "      <td>44</td>\n",
       "      <td>354</td>\n",
       "      <td>66</td>\n",
       "      <td>44</td>\n",
       "    </tr>\n",
       "    <tr>\n",
       "      <th>2</th>\n",
       "      <td>21.0</td>\n",
       "      <td>0.0</td>\n",
       "      <td>0.0</td>\n",
       "      <td>0.0</td>\n",
       "      <td>0.0</td>\n",
       "      <td>1.000</td>\n",
       "      <td>0.000</td>\n",
       "      <td>0.000</td>\n",
       "      <td>0.000</td>\n",
       "      <td>female</td>\n",
       "      <td>NoGlasses</td>\n",
       "      <td>dd5f3c71-8d3f-4fe7-8095-7cbbb3172802</td>\n",
       "      <td>42</td>\n",
       "      <td>138</td>\n",
       "      <td>90</td>\n",
       "      <td>42</td>\n",
       "    </tr>\n",
       "    <tr>\n",
       "      <th>3</th>\n",
       "      <td>20.0</td>\n",
       "      <td>0.0</td>\n",
       "      <td>0.0</td>\n",
       "      <td>0.0</td>\n",
       "      <td>0.0</td>\n",
       "      <td>0.011</td>\n",
       "      <td>0.987</td>\n",
       "      <td>0.002</td>\n",
       "      <td>0.001</td>\n",
       "      <td>female</td>\n",
       "      <td>NoGlasses</td>\n",
       "      <td>11cd542d-9df6-4eb8-b8f2-0208a9553d35</td>\n",
       "      <td>40</td>\n",
       "      <td>241</td>\n",
       "      <td>92</td>\n",
       "      <td>40</td>\n",
       "    </tr>\n",
       "  </tbody>\n",
       "</table>\n",
       "</div>"
      ],
      "text/plain": [
       "   faceAttributes.age  faceAttributes.emotion.anger  \\\n",
       "0                19.0                           0.0   \n",
       "1                19.0                           0.0   \n",
       "2                21.0                           0.0   \n",
       "3                20.0                           0.0   \n",
       "\n",
       "   faceAttributes.emotion.contempt  faceAttributes.emotion.disgust  \\\n",
       "0                              0.0                             0.0   \n",
       "1                              0.0                             0.0   \n",
       "2                              0.0                             0.0   \n",
       "3                              0.0                             0.0   \n",
       "\n",
       "   faceAttributes.emotion.fear  faceAttributes.emotion.happiness  \\\n",
       "0                          0.0                             0.951   \n",
       "1                          0.0                             0.998   \n",
       "2                          0.0                             1.000   \n",
       "3                          0.0                             0.011   \n",
       "\n",
       "   faceAttributes.emotion.neutral  faceAttributes.emotion.sadness  \\\n",
       "0                           0.049                           0.000   \n",
       "1                           0.002                           0.000   \n",
       "2                           0.000                           0.000   \n",
       "3                           0.987                           0.002   \n",
       "\n",
       "   faceAttributes.emotion.surprise faceAttributes.gender  \\\n",
       "0                            0.000                  male   \n",
       "1                            0.000                  male   \n",
       "2                            0.000                female   \n",
       "3                            0.001                female   \n",
       "\n",
       "  faceAttributes.glasses                                faceId  \\\n",
       "0              NoGlasses  b97d4fb9-1899-418b-acf3-4dece6716067   \n",
       "1              NoGlasses  d083c07a-8a40-4aed-8cd4-a6b609bc44a7   \n",
       "2              NoGlasses  dd5f3c71-8d3f-4fe7-8095-7cbbb3172802   \n",
       "3              NoGlasses  11cd542d-9df6-4eb8-b8f2-0208a9553d35   \n",
       "\n",
       "   faceRectangle.height  faceRectangle.left  faceRectangle.top  \\\n",
       "0                    48                  49                 49   \n",
       "1                    44                 354                 66   \n",
       "2                    42                 138                 90   \n",
       "3                    40                 241                 92   \n",
       "\n",
       "   faceRectangle.width  \n",
       "0                   48  \n",
       "1                   44  \n",
       "2                   42  \n",
       "3                   40  "
      ]
     },
     "execution_count": 206,
     "metadata": {},
     "output_type": "execute_result"
    }
   ],
   "source": [
    "df"
   ]
  },
  {
   "cell_type": "code",
   "execution_count": null,
   "metadata": {},
   "outputs": [],
   "source": []
  },
  {
   "cell_type": "markdown",
   "metadata": {},
   "source": [
    "# #  face++ Detect API(面部检测)\n",
    "* [face++ detect api官方文档](https://console.faceplusplus.com.cn/documents/4888373)"
   ]
  },
  {
   "cell_type": "code",
   "execution_count": 263,
   "metadata": {},
   "outputs": [],
   "source": [
    "# 1、先导入为们需要的模块\n",
    "import requests\n",
    "\n",
    "\n",
    "api_secret = \"LmJuv2ZfWMmW9ycKkr3FQEs1R3P4gKhz\"\n",
    "# 2、输入我们API_Key\n",
    "api_key = '1-Jj0t9l5lCIe_VpJHOXa8xBegILCeqO'  # Replace with a valid Subscription Key here.\n",
    "\n",
    "\n",
    "# 3、目标url\n",
    "# 这里也可以使用本地图片 例如：filepath =\"image/tupian.jpg\"\n",
    "BASE_URL = 'https://api-cn.faceplusplus.com/facepp/v3/detect' \n",
    "img_url = 'https://ss1.bdstatic.com/70cFvXSh_Q1YnxGkpoWK1HF6hhy/it/u=895667226,563348569&fm=26&gp=0.jpg'\n",
    "\n",
    "\n",
    "# 4、沿用API文档的示范代码,准备我们的headers和图片(数据)\n",
    "headers = {\n",
    "    'Content-Type': 'application/json',\n",
    "}\n",
    "\n",
    "# 5、准备symbol ? 后面的数据\n",
    "\n",
    "payload = {\n",
    "    \"image_url\":img_url,\n",
    "    'api_key': api_key,\n",
    "    'api_secret': api_secret,\n",
    "    'return_attributes':'gender,age,smiling,emotion', \n",
    "}\n",
    "\n",
    "r = requests.post(BASE_URL, params=payload, headers=headers)"
   ]
  },
  {
   "cell_type": "code",
   "execution_count": 264,
   "metadata": {},
   "outputs": [
    {
     "data": {
      "text/plain": [
       "200"
      ]
     },
     "execution_count": 264,
     "metadata": {},
     "output_type": "execute_result"
    }
   ],
   "source": [
    "r.status_code"
   ]
  },
  {
   "cell_type": "code",
   "execution_count": 265,
   "metadata": {},
   "outputs": [
    {
     "data": {
      "text/plain": [
       "b'{\"request_id\":\"1585806734,b36f3ab3-6a3a-480f-88dc-83be4723982c\",\"time_used\":203,\"faces\":[{\"face_token\":\"2324ccd120301e6771f7f5b46f4da23b\",\"face_rectangle\":{\"top\":53,\"left\":48,\"width\":49,\"height\":49},\"attributes\":{\"gender\":{\"value\":\"Male\"},\"age\":{\"value\":23},\"smile\":{\"value\":99.799,\"threshold\":50.000},\"emotion\":{\"anger\":0.002,\"disgust\":0.002,\"fear\":0.002,\"happiness\":56.916,\"neutral\":42.562,\"sadness\":0.515,\"surprise\":0.002}}},{\"face_token\":\"14e839d37be0c5a44a2c34515f88fbd9\",\"face_rectangle\":{\"top\":69,\"left\":354,\"width\":45,\"height\":45},\"attributes\":{\"gender\":{\"value\":\"Male\"},\"age\":{\"value\":26},\"smile\":{\"value\":99.998,\"threshold\":50.000},\"emotion\":{\"anger\":0.008,\"disgust\":1.793,\"fear\":0.012,\"happiness\":97.947,\"neutral\":0.023,\"sadness\":0.084,\"surprise\":0.134}}},{\"face_token\":\"788d7b01d6caaa87038b90a86ca7e98f\",\"face_rectangle\":{\"top\":94,\"left\":142,\"width\":41,\"height\":41},\"attributes\":{\"gender\":{\"value\":\"Female\"},\"age\":{\"value\":22},\"smile\":{\"value\":100.000,\"threshold\":50.000},\"emotion\":{\"anger\":0.011,\"disgust\":0.424,\"fear\":0.026,\"happiness\":44.759,\"neutral\":0.021,\"sadness\":54.586,\"surprise\":0.173}}},{\"face_token\":\"71f690201a13902a1ea086c8a781dafb\",\"face_rectangle\":{\"top\":95,\"left\":244,\"width\":39,\"height\":39},\"attributes\":{\"gender\":{\"value\":\"Female\"},\"age\":{\"value\":23},\"smile\":{\"value\":16.306,\"threshold\":50.000},\"emotion\":{\"anger\":0.397,\"disgust\":4.868,\"fear\":21.548,\"happiness\":13.664,\"neutral\":29.509,\"sadness\":9.962,\"surprise\":20.052}}}],\"image_id\":\"fYH9yMLvWmfaX15V7z5a6g==\",\"face_num\":4}\\n'"
      ]
     },
     "execution_count": 265,
     "metadata": {},
     "output_type": "execute_result"
    }
   ],
   "source": [
    "r.content"
   ]
  },
  {
   "cell_type": "code",
   "execution_count": 266,
   "metadata": {},
   "outputs": [
    {
     "data": {
      "text/plain": [
       "{'request_id': '1585806734,b36f3ab3-6a3a-480f-88dc-83be4723982c',\n",
       " 'time_used': 203,\n",
       " 'faces': [{'face_token': '2324ccd120301e6771f7f5b46f4da23b',\n",
       "   'face_rectangle': {'top': 53, 'left': 48, 'width': 49, 'height': 49},\n",
       "   'attributes': {'gender': {'value': 'Male'},\n",
       "    'age': {'value': 23},\n",
       "    'smile': {'value': 99.799, 'threshold': 50.0},\n",
       "    'emotion': {'anger': 0.002,\n",
       "     'disgust': 0.002,\n",
       "     'fear': 0.002,\n",
       "     'happiness': 56.916,\n",
       "     'neutral': 42.562,\n",
       "     'sadness': 0.515,\n",
       "     'surprise': 0.002}}},\n",
       "  {'face_token': '14e839d37be0c5a44a2c34515f88fbd9',\n",
       "   'face_rectangle': {'top': 69, 'left': 354, 'width': 45, 'height': 45},\n",
       "   'attributes': {'gender': {'value': 'Male'},\n",
       "    'age': {'value': 26},\n",
       "    'smile': {'value': 99.998, 'threshold': 50.0},\n",
       "    'emotion': {'anger': 0.008,\n",
       "     'disgust': 1.793,\n",
       "     'fear': 0.012,\n",
       "     'happiness': 97.947,\n",
       "     'neutral': 0.023,\n",
       "     'sadness': 0.084,\n",
       "     'surprise': 0.134}}},\n",
       "  {'face_token': '788d7b01d6caaa87038b90a86ca7e98f',\n",
       "   'face_rectangle': {'top': 94, 'left': 142, 'width': 41, 'height': 41},\n",
       "   'attributes': {'gender': {'value': 'Female'},\n",
       "    'age': {'value': 22},\n",
       "    'smile': {'value': 100.0, 'threshold': 50.0},\n",
       "    'emotion': {'anger': 0.011,\n",
       "     'disgust': 0.424,\n",
       "     'fear': 0.026,\n",
       "     'happiness': 44.759,\n",
       "     'neutral': 0.021,\n",
       "     'sadness': 54.586,\n",
       "     'surprise': 0.173}}},\n",
       "  {'face_token': '71f690201a13902a1ea086c8a781dafb',\n",
       "   'face_rectangle': {'top': 95, 'left': 244, 'width': 39, 'height': 39},\n",
       "   'attributes': {'gender': {'value': 'Female'},\n",
       "    'age': {'value': 23},\n",
       "    'smile': {'value': 16.306, 'threshold': 50.0},\n",
       "    'emotion': {'anger': 0.397,\n",
       "     'disgust': 4.868,\n",
       "     'fear': 21.548,\n",
       "     'happiness': 13.664,\n",
       "     'neutral': 29.509,\n",
       "     'sadness': 9.962,\n",
       "     'surprise': 20.052}}}],\n",
       " 'image_id': 'fYH9yMLvWmfaX15V7z5a6g==',\n",
       " 'face_num': 4}"
      ]
     },
     "execution_count": 266,
     "metadata": {},
     "output_type": "execute_result"
    }
   ],
   "source": [
    "results = r.json() \n",
    "results"
   ]
  },
  {
   "cell_type": "markdown",
   "metadata": {},
   "source": [
    "## 使用pandas进行数据分析\n",
    "* pandas黑魔法-json_normalize方法\n",
    " * [json_normalize github](https://github.com/pandas-dev/pandas/blob/v1.0.3/pandas/io/json/_normalize.py#L114-L358)\n",
    " * 注意：使用df = pd.json_normalize 需版本\"1.0.0\"!!\n",
    "  * 需在anaconda更新！pandas conda update pandas\n",
    " \n",
    " *否则可用 pandas.io.json.json_normalize*"
   ]
  },
  {
   "cell_type": "code",
   "execution_count": 267,
   "metadata": {},
   "outputs": [],
   "source": [
    "import pandas as pd\n",
    "from pandas.io.json import json_normalize"
   ]
  },
  {
   "cell_type": "code",
   "execution_count": 268,
   "metadata": {},
   "outputs": [],
   "source": [
    "df = pd.io.json.json_normalize(results,record_path='faces')"
   ]
  },
  {
   "cell_type": "code",
   "execution_count": 269,
   "metadata": {},
   "outputs": [
    {
     "data": {
      "text/html": [
       "<div>\n",
       "<style scoped>\n",
       "    .dataframe tbody tr th:only-of-type {\n",
       "        vertical-align: middle;\n",
       "    }\n",
       "\n",
       "    .dataframe tbody tr th {\n",
       "        vertical-align: top;\n",
       "    }\n",
       "\n",
       "    .dataframe thead th {\n",
       "        text-align: right;\n",
       "    }\n",
       "</style>\n",
       "<table border=\"1\" class=\"dataframe\">\n",
       "  <thead>\n",
       "    <tr style=\"text-align: right;\">\n",
       "      <th></th>\n",
       "      <th>attributes</th>\n",
       "      <th>face_rectangle</th>\n",
       "      <th>face_token</th>\n",
       "    </tr>\n",
       "  </thead>\n",
       "  <tbody>\n",
       "    <tr>\n",
       "      <th>0</th>\n",
       "      <td>{'gender': {'value': 'Male'}, 'age': {'value':...</td>\n",
       "      <td>{'top': 53, 'left': 48, 'width': 49, 'height':...</td>\n",
       "      <td>2324ccd120301e6771f7f5b46f4da23b</td>\n",
       "    </tr>\n",
       "    <tr>\n",
       "      <th>1</th>\n",
       "      <td>{'gender': {'value': 'Male'}, 'age': {'value':...</td>\n",
       "      <td>{'top': 69, 'left': 354, 'width': 45, 'height'...</td>\n",
       "      <td>14e839d37be0c5a44a2c34515f88fbd9</td>\n",
       "    </tr>\n",
       "    <tr>\n",
       "      <th>2</th>\n",
       "      <td>{'gender': {'value': 'Female'}, 'age': {'value...</td>\n",
       "      <td>{'top': 94, 'left': 142, 'width': 41, 'height'...</td>\n",
       "      <td>788d7b01d6caaa87038b90a86ca7e98f</td>\n",
       "    </tr>\n",
       "    <tr>\n",
       "      <th>3</th>\n",
       "      <td>{'gender': {'value': 'Female'}, 'age': {'value...</td>\n",
       "      <td>{'top': 95, 'left': 244, 'width': 39, 'height'...</td>\n",
       "      <td>71f690201a13902a1ea086c8a781dafb</td>\n",
       "    </tr>\n",
       "  </tbody>\n",
       "</table>\n",
       "</div>"
      ],
      "text/plain": [
       "                                          attributes  \\\n",
       "0  {'gender': {'value': 'Male'}, 'age': {'value':...   \n",
       "1  {'gender': {'value': 'Male'}, 'age': {'value':...   \n",
       "2  {'gender': {'value': 'Female'}, 'age': {'value...   \n",
       "3  {'gender': {'value': 'Female'}, 'age': {'value...   \n",
       "\n",
       "                                      face_rectangle  \\\n",
       "0  {'top': 53, 'left': 48, 'width': 49, 'height':...   \n",
       "1  {'top': 69, 'left': 354, 'width': 45, 'height'...   \n",
       "2  {'top': 94, 'left': 142, 'width': 41, 'height'...   \n",
       "3  {'top': 95, 'left': 244, 'width': 39, 'height'...   \n",
       "\n",
       "                         face_token  \n",
       "0  2324ccd120301e6771f7f5b46f4da23b  \n",
       "1  14e839d37be0c5a44a2c34515f88fbd9  \n",
       "2  788d7b01d6caaa87038b90a86ca7e98f  \n",
       "3  71f690201a13902a1ea086c8a781dafb  "
      ]
     },
     "execution_count": 269,
     "metadata": {},
     "output_type": "execute_result"
    }
   ],
   "source": [
    "df"
   ]
  },
  {
   "cell_type": "markdown",
   "metadata": {},
   "source": [
    "## pandas常规方法"
   ]
  },
  {
   "cell_type": "code",
   "execution_count": 271,
   "metadata": {},
   "outputs": [
    {
     "data": {
      "text/html": [
       "<div>\n",
       "<style scoped>\n",
       "    .dataframe tbody tr th:only-of-type {\n",
       "        vertical-align: middle;\n",
       "    }\n",
       "\n",
       "    .dataframe tbody tr th {\n",
       "        vertical-align: top;\n",
       "    }\n",
       "\n",
       "    .dataframe thead th {\n",
       "        text-align: right;\n",
       "    }\n",
       "</style>\n",
       "<table border=\"1\" class=\"dataframe\">\n",
       "  <thead>\n",
       "    <tr style=\"text-align: right;\">\n",
       "      <th></th>\n",
       "      <th>0</th>\n",
       "      <th>1</th>\n",
       "      <th>2</th>\n",
       "      <th>3</th>\n",
       "    </tr>\n",
       "  </thead>\n",
       "  <tbody>\n",
       "    <tr>\n",
       "      <th>age</th>\n",
       "      <td>{'value': 23}</td>\n",
       "      <td>{'value': 26}</td>\n",
       "      <td>{'value': 22}</td>\n",
       "      <td>{'value': 23}</td>\n",
       "    </tr>\n",
       "    <tr>\n",
       "      <th>emotion</th>\n",
       "      <td>{'anger': 0.002, 'disgust': 0.002, 'fear': 0.0...</td>\n",
       "      <td>{'anger': 0.008, 'disgust': 1.793, 'fear': 0.0...</td>\n",
       "      <td>{'anger': 0.011, 'disgust': 0.424, 'fear': 0.0...</td>\n",
       "      <td>{'anger': 0.397, 'disgust': 4.868, 'fear': 21....</td>\n",
       "    </tr>\n",
       "    <tr>\n",
       "      <th>gender</th>\n",
       "      <td>{'value': 'Male'}</td>\n",
       "      <td>{'value': 'Male'}</td>\n",
       "      <td>{'value': 'Female'}</td>\n",
       "      <td>{'value': 'Female'}</td>\n",
       "    </tr>\n",
       "    <tr>\n",
       "      <th>smile</th>\n",
       "      <td>{'value': 99.799, 'threshold': 50.0}</td>\n",
       "      <td>{'value': 99.998, 'threshold': 50.0}</td>\n",
       "      <td>{'value': 100.0, 'threshold': 50.0}</td>\n",
       "      <td>{'value': 16.306, 'threshold': 50.0}</td>\n",
       "    </tr>\n",
       "  </tbody>\n",
       "</table>\n",
       "</div>"
      ],
      "text/plain": [
       "                                                         0  \\\n",
       "age                                          {'value': 23}   \n",
       "emotion  {'anger': 0.002, 'disgust': 0.002, 'fear': 0.0...   \n",
       "gender                                   {'value': 'Male'}   \n",
       "smile                 {'value': 99.799, 'threshold': 50.0}   \n",
       "\n",
       "                                                         1  \\\n",
       "age                                          {'value': 26}   \n",
       "emotion  {'anger': 0.008, 'disgust': 1.793, 'fear': 0.0...   \n",
       "gender                                   {'value': 'Male'}   \n",
       "smile                 {'value': 99.998, 'threshold': 50.0}   \n",
       "\n",
       "                                                         2  \\\n",
       "age                                          {'value': 22}   \n",
       "emotion  {'anger': 0.011, 'disgust': 0.424, 'fear': 0.0...   \n",
       "gender                                 {'value': 'Female'}   \n",
       "smile                  {'value': 100.0, 'threshold': 50.0}   \n",
       "\n",
       "                                                         3  \n",
       "age                                          {'value': 23}  \n",
       "emotion  {'anger': 0.397, 'disgust': 4.868, 'fear': 21....  \n",
       "gender                                 {'value': 'Female'}  \n",
       "smile                 {'value': 16.306, 'threshold': 50.0}  "
      ]
     },
     "execution_count": 271,
     "metadata": {},
     "output_type": "execute_result"
    }
   ],
   "source": [
    "# 将df转为字典\n",
    "pd.DataFrame(df[\"attributes\"].to_dict())"
   ]
  },
  {
   "cell_type": "code",
   "execution_count": 272,
   "metadata": {},
   "outputs": [
    {
     "data": {
      "text/plain": [
       "0    {'gender': {'value': 'Male'}, 'age': {'value':...\n",
       "1    {'gender': {'value': 'Male'}, 'age': {'value':...\n",
       "2    {'gender': {'value': 'Female'}, 'age': {'value...\n",
       "3    {'gender': {'value': 'Female'}, 'age': {'value...\n",
       "Name: attributes, dtype: object"
      ]
     },
     "execution_count": 272,
     "metadata": {},
     "output_type": "execute_result"
    }
   ],
   "source": [
    "#提取变量attributes的值\n",
    "df[\"attributes\"]"
   ]
  },
  {
   "cell_type": "code",
   "execution_count": 273,
   "metadata": {},
   "outputs": [
    {
     "name": "stdout",
     "output_type": "stream",
     "text": [
      "0 {'value': 'Male'}\n",
      "1 {'value': 'Male'}\n",
      "2 {'value': 'Female'}\n",
      "3 {'value': 'Female'}\n"
     ]
    }
   ],
   "source": [
    "# 循环遍历attributes中的gender值\n",
    "for i in df[\"attributes\"].index:\n",
    "    print (i,df[\"attributes\"].loc[i].get(\"gender\")  )"
   ]
  },
  {
   "cell_type": "code",
   "execution_count": 248,
   "metadata": {},
   "outputs": [
    {
     "name": "stdout",
     "output_type": "stream",
     "text": [
      "0 {'value': 23}\n",
      "1 {'value': 26}\n",
      "2 {'value': 22}\n",
      "3 {'value': 23}\n"
     ]
    }
   ],
   "source": [
    "for i in df[\"attributes\"].index:\n",
    "    print (i,df[\"attributes\"].loc[i].get(\"age\")  )"
   ]
  },
  {
   "cell_type": "code",
   "execution_count": 249,
   "metadata": {},
   "outputs": [
    {
     "name": "stdout",
     "output_type": "stream",
     "text": [
      "0 {'anger': 0.002, 'disgust': 0.002, 'fear': 0.002, 'happiness': 57.6, 'neutral': 41.87, 'sadness': 0.523, 'surprise': 0.002}\n",
      "1 {'anger': 0.008, 'disgust': 1.804, 'fear': 0.012, 'happiness': 97.936, 'neutral': 0.023, 'sadness': 0.083, 'surprise': 0.135}\n",
      "2 {'anger': 0.011, 'disgust': 0.426, 'fear': 0.026, 'happiness': 44.509, 'neutral': 0.021, 'sadness': 54.835, 'surprise': 0.172}\n",
      "3 {'anger': 0.397, 'disgust': 4.949, 'fear': 20.876, 'happiness': 14.339, 'neutral': 29.111, 'sadness': 9.857, 'surprise': 20.47}\n"
     ]
    }
   ],
   "source": [
    "for i in df[\"attributes\"].index:\n",
    "    print (i,df[\"attributes\"].loc[i].get(\"emotion\")  )"
   ]
  },
  {
   "cell_type": "code",
   "execution_count": 250,
   "metadata": {},
   "outputs": [
    {
     "data": {
      "text/html": [
       "<div>\n",
       "<style scoped>\n",
       "    .dataframe tbody tr th:only-of-type {\n",
       "        vertical-align: middle;\n",
       "    }\n",
       "\n",
       "    .dataframe tbody tr th {\n",
       "        vertical-align: top;\n",
       "    }\n",
       "\n",
       "    .dataframe thead th {\n",
       "        text-align: right;\n",
       "    }\n",
       "</style>\n",
       "<table border=\"1\" class=\"dataframe\">\n",
       "  <thead>\n",
       "    <tr style=\"text-align: right;\">\n",
       "      <th></th>\n",
       "      <th>age</th>\n",
       "      <th>emotion</th>\n",
       "      <th>gender</th>\n",
       "      <th>smile</th>\n",
       "    </tr>\n",
       "  </thead>\n",
       "  <tbody>\n",
       "    <tr>\n",
       "      <th>0</th>\n",
       "      <td>{'value': 23}</td>\n",
       "      <td>{'anger': 0.002, 'disgust': 0.002, 'fear': 0.0...</td>\n",
       "      <td>{'value': 'Male'}</td>\n",
       "      <td>{'value': 99.798, 'threshold': 50.0}</td>\n",
       "    </tr>\n",
       "    <tr>\n",
       "      <th>1</th>\n",
       "      <td>{'value': 26}</td>\n",
       "      <td>{'anger': 0.008, 'disgust': 1.804, 'fear': 0.0...</td>\n",
       "      <td>{'value': 'Male'}</td>\n",
       "      <td>{'value': 99.998, 'threshold': 50.0}</td>\n",
       "    </tr>\n",
       "    <tr>\n",
       "      <th>2</th>\n",
       "      <td>{'value': 22}</td>\n",
       "      <td>{'anger': 0.011, 'disgust': 0.426, 'fear': 0.0...</td>\n",
       "      <td>{'value': 'Female'}</td>\n",
       "      <td>{'value': 100.0, 'threshold': 50.0}</td>\n",
       "    </tr>\n",
       "    <tr>\n",
       "      <th>3</th>\n",
       "      <td>{'value': 23}</td>\n",
       "      <td>{'anger': 0.397, 'disgust': 4.949, 'fear': 20....</td>\n",
       "      <td>{'value': 'Female'}</td>\n",
       "      <td>{'value': 16.388, 'threshold': 50.0}</td>\n",
       "    </tr>\n",
       "  </tbody>\n",
       "</table>\n",
       "</div>"
      ],
      "text/plain": [
       "             age                                            emotion  \\\n",
       "0  {'value': 23}  {'anger': 0.002, 'disgust': 0.002, 'fear': 0.0...   \n",
       "1  {'value': 26}  {'anger': 0.008, 'disgust': 1.804, 'fear': 0.0...   \n",
       "2  {'value': 22}  {'anger': 0.011, 'disgust': 0.426, 'fear': 0.0...   \n",
       "3  {'value': 23}  {'anger': 0.397, 'disgust': 4.949, 'fear': 20....   \n",
       "\n",
       "                gender                                 smile  \n",
       "0    {'value': 'Male'}  {'value': 99.798, 'threshold': 50.0}  \n",
       "1    {'value': 'Male'}  {'value': 99.998, 'threshold': 50.0}  \n",
       "2  {'value': 'Female'}   {'value': 100.0, 'threshold': 50.0}  \n",
       "3  {'value': 'Female'}  {'value': 16.388, 'threshold': 50.0}  "
      ]
     },
     "execution_count": 250,
     "metadata": {},
     "output_type": "execute_result"
    }
   ],
   "source": [
    "df_rect = pd.DataFrame(df[\"attributes\"].to_dict()).T\n",
    "# 欄位名稱加上 face_rectangle \n",
    "df_rect.columns = [ x for x in df_rect.columns]\n",
    "df_rect"
   ]
  },
  {
   "cell_type": "code",
   "execution_count": 251,
   "metadata": {},
   "outputs": [
    {
     "data": {
      "text/html": [
       "<div>\n",
       "<style scoped>\n",
       "    .dataframe tbody tr th:only-of-type {\n",
       "        vertical-align: middle;\n",
       "    }\n",
       "\n",
       "    .dataframe tbody tr th {\n",
       "        vertical-align: top;\n",
       "    }\n",
       "\n",
       "    .dataframe thead th {\n",
       "        text-align: right;\n",
       "    }\n",
       "</style>\n",
       "<table border=\"1\" class=\"dataframe\">\n",
       "  <thead>\n",
       "    <tr style=\"text-align: right;\">\n",
       "      <th></th>\n",
       "      <th>attributes</th>\n",
       "      <th>face_rectangle</th>\n",
       "      <th>face_token</th>\n",
       "      <th>age</th>\n",
       "      <th>emotion</th>\n",
       "      <th>gender</th>\n",
       "      <th>smile</th>\n",
       "    </tr>\n",
       "  </thead>\n",
       "  <tbody>\n",
       "    <tr>\n",
       "      <th>0</th>\n",
       "      <td>{'gender': {'value': 'Male'}, 'age': {'value':...</td>\n",
       "      <td>{'top': 53, 'left': 48, 'width': 49, 'height':...</td>\n",
       "      <td>60ef1a26f573f644e7bc4460c1f6cfd6</td>\n",
       "      <td>{'value': 23}</td>\n",
       "      <td>{'anger': 0.002, 'disgust': 0.002, 'fear': 0.0...</td>\n",
       "      <td>{'value': 'Male'}</td>\n",
       "      <td>{'value': 99.798, 'threshold': 50.0}</td>\n",
       "    </tr>\n",
       "    <tr>\n",
       "      <th>1</th>\n",
       "      <td>{'gender': {'value': 'Male'}, 'age': {'value':...</td>\n",
       "      <td>{'top': 69, 'left': 354, 'width': 45, 'height'...</td>\n",
       "      <td>e52109a6e7dc60b4016910563cdccca4</td>\n",
       "      <td>{'value': 26}</td>\n",
       "      <td>{'anger': 0.008, 'disgust': 1.804, 'fear': 0.0...</td>\n",
       "      <td>{'value': 'Male'}</td>\n",
       "      <td>{'value': 99.998, 'threshold': 50.0}</td>\n",
       "    </tr>\n",
       "    <tr>\n",
       "      <th>2</th>\n",
       "      <td>{'gender': {'value': 'Female'}, 'age': {'value...</td>\n",
       "      <td>{'top': 94, 'left': 142, 'width': 41, 'height'...</td>\n",
       "      <td>efea997b4093ca5411c58d22a2eb71d3</td>\n",
       "      <td>{'value': 22}</td>\n",
       "      <td>{'anger': 0.011, 'disgust': 0.426, 'fear': 0.0...</td>\n",
       "      <td>{'value': 'Female'}</td>\n",
       "      <td>{'value': 100.0, 'threshold': 50.0}</td>\n",
       "    </tr>\n",
       "    <tr>\n",
       "      <th>3</th>\n",
       "      <td>{'gender': {'value': 'Female'}, 'age': {'value...</td>\n",
       "      <td>{'top': 95, 'left': 244, 'width': 39, 'height'...</td>\n",
       "      <td>0286fcf939d0dfa5d311bd54e87b54e4</td>\n",
       "      <td>{'value': 23}</td>\n",
       "      <td>{'anger': 0.397, 'disgust': 4.949, 'fear': 20....</td>\n",
       "      <td>{'value': 'Female'}</td>\n",
       "      <td>{'value': 16.388, 'threshold': 50.0}</td>\n",
       "    </tr>\n",
       "  </tbody>\n",
       "</table>\n",
       "</div>"
      ],
      "text/plain": [
       "                                          attributes  \\\n",
       "0  {'gender': {'value': 'Male'}, 'age': {'value':...   \n",
       "1  {'gender': {'value': 'Male'}, 'age': {'value':...   \n",
       "2  {'gender': {'value': 'Female'}, 'age': {'value...   \n",
       "3  {'gender': {'value': 'Female'}, 'age': {'value...   \n",
       "\n",
       "                                      face_rectangle  \\\n",
       "0  {'top': 53, 'left': 48, 'width': 49, 'height':...   \n",
       "1  {'top': 69, 'left': 354, 'width': 45, 'height'...   \n",
       "2  {'top': 94, 'left': 142, 'width': 41, 'height'...   \n",
       "3  {'top': 95, 'left': 244, 'width': 39, 'height'...   \n",
       "\n",
       "                         face_token            age  \\\n",
       "0  60ef1a26f573f644e7bc4460c1f6cfd6  {'value': 23}   \n",
       "1  e52109a6e7dc60b4016910563cdccca4  {'value': 26}   \n",
       "2  efea997b4093ca5411c58d22a2eb71d3  {'value': 22}   \n",
       "3  0286fcf939d0dfa5d311bd54e87b54e4  {'value': 23}   \n",
       "\n",
       "                                             emotion               gender  \\\n",
       "0  {'anger': 0.002, 'disgust': 0.002, 'fear': 0.0...    {'value': 'Male'}   \n",
       "1  {'anger': 0.008, 'disgust': 1.804, 'fear': 0.0...    {'value': 'Male'}   \n",
       "2  {'anger': 0.011, 'disgust': 0.426, 'fear': 0.0...  {'value': 'Female'}   \n",
       "3  {'anger': 0.397, 'disgust': 4.949, 'fear': 20....  {'value': 'Female'}   \n",
       "\n",
       "                                  smile  \n",
       "0  {'value': 99.798, 'threshold': 50.0}  \n",
       "1  {'value': 99.998, 'threshold': 50.0}  \n",
       "2   {'value': 100.0, 'threshold': 50.0}  \n",
       "3  {'value': 16.388, 'threshold': 50.0}  "
      ]
     },
     "execution_count": 251,
     "metadata": {},
     "output_type": "execute_result"
    }
   ],
   "source": [
    "# 使用join合并\n",
    "df.join(df_rect)"
   ]
  },
  {
   "cell_type": "markdown",
   "metadata": {},
   "source": [
    "# 百度智能云\n",
    "[百度智能云官方文档](http://ai.baidu.com/ai-doc/FACE/yk37c1u4t#%E8%BF%94%E5%9B%9E%E8%AF%B4%E6%98%8E)\n",
    "\n",
    "如何获取access token？\n",
    "* 参考文档[Access Token获取](http://ai.baidu.com/ai-doc/REFERENCE/Ck3dwjhhu)\n",
    "* https://aip.baidubce.com/oauth/2.0/token?grant_type=client_credentials&client_id=【官网获取的AK】&client_secret=【官网获取的SK】"
   ]
  },
  {
   "cell_type": "code",
   "execution_count": 252,
   "metadata": {},
   "outputs": [
    {
     "name": "stdout",
     "output_type": "stream",
     "text": [
      "{'refresh_token': '25.ca0f62b9c446176cbb5c4b3333d9311e.315360000.1901166348.282335-19207134', 'expires_in': 2592000, 'session_key': '9mzdA8t3+671l1oco7tuDXgMcuUB8Krw8EXJKu1CO1iDbEC4TyB9qCthQjVO00EC6RIDp/GYRIioha1mSnDhvarcRcBDig==', 'access_token': '24.8a13142c4a9f613da901f3997f1b3f71.2592000.1588398348.282335-19207134', 'scope': 'public brain_all_scope vis-faceverify_faceverify_h5-face-liveness vis-faceverify_FACE_V3 vis-faceverify_idl_face_merge wise_adapt lebo_resource_base lightservice_public hetu_basic lightcms_map_poi kaidian_kaidian ApsMisTest_Test权限 vis-classify_flower lpq_开放 cop_helloScope ApsMis_fangdi_permission smartapp_snsapi_base iop_autocar oauth_tp_app smartapp_smart_game_openapi oauth_sessionkey smartapp_swanid_verify smartapp_opensource_openapi smartapp_opensource_recapi qatest_scope1 fake_face_detect_开放Scope vis-ocr_虚拟人物助理 idl-video_虚拟人物助理', 'session_secret': '2ee6e7b15c45134c8fc908381bfe783c'}\n"
     ]
    }
   ],
   "source": [
    "import requests \n",
    "\n",
    "# client_id 为官网获取的AK， client_secret 为官网获取的SK\n",
    "host = 'https://aip.baidubce.com/oauth/2.0/token?grant_type=client_credentials&client_id=kNTwVVxlK2n6Ww7KiQmdGpvf&client_secret=tXDn4yFKggFIirFn9EKPizrw4t4356k9'\n",
    "response = requests.get(host)\n",
    "if response:\n",
    "    print(response.json())"
   ]
  },
  {
   "cell_type": "code",
   "execution_count": 253,
   "metadata": {},
   "outputs": [
    {
     "name": "stdout",
     "output_type": "stream",
     "text": [
      "{'error_code': 0, 'error_msg': 'SUCCESS', 'log_id': 7999841014525, 'timestamp': 1585806348, 'cached': 0, 'result': {'face_num': 1, 'face_list': [{'face_token': '1b0f7d5b31202055de911271d47f1e56', 'location': {'left': 354.72, 'top': 37.35, 'width': 184, 'height': 179, 'rotation': 40}, 'face_probability': 1, 'angle': {'yaw': -37.61, 'pitch': -0.27, 'roll': 37.46}, 'face_shape': {'type': 'round', 'probability': 0.67}, 'age': 23, 'emotion': {'type': 'happy', 'probability': 1}}]}}\n"
     ]
    }
   ],
   "source": [
    "import requests\n",
    "\n",
    "'''\n",
    "人脸检测与属性分析\n",
    "'''\n",
    "\n",
    "request_url = \"https://aip.baidubce.com/rest/2.0/face/v3/detect\"\n",
    "\n",
    "params = {\"image\":\"https://timgsa.baidu.com/timg?image&quality=80&size=b9999_10000&sec=1585809533474&di=19faa0b2cd3cc4076e5d1d23e9db3c7d&imgtype=0&src=http%3A%2F%2Fb-ssl.duitang.com%2Fuploads%2Fitem%2F201711%2F11%2F20171111211118_mCWFA.thumb.700_0.jpeg\",\n",
    "          \"image_type\":\"URL\",\n",
    "          \"face_field\":\"faceshape,age,emotion\"\n",
    "}\n",
    "\n",
    "access_token = '24.6518b428b7e4cd6f0b698d0e92b8f674.2592000.1588350394.282335-19207134'\n",
    "request_url = request_url = request_url + \"?access_token=\" + access_token\n",
    "headers = {\n",
    "    'content-type': 'application/json',\n",
    "}\n",
    "response = requests.post(request_url, data=params, headers=headers)\n",
    "if response:\n",
    "    print (response.json())\n"
   ]
  },
  {
   "cell_type": "code",
   "execution_count": 254,
   "metadata": {},
   "outputs": [
    {
     "data": {
      "text/plain": [
       "200"
      ]
     },
     "execution_count": 254,
     "metadata": {},
     "output_type": "execute_result"
    }
   ],
   "source": [
    "response.status_code"
   ]
  },
  {
   "cell_type": "code",
   "execution_count": 255,
   "metadata": {},
   "outputs": [
    {
     "data": {
      "text/plain": [
       "{'error_code': 0,\n",
       " 'error_msg': 'SUCCESS',\n",
       " 'log_id': 7999841014525,\n",
       " 'timestamp': 1585806348,\n",
       " 'cached': 0,\n",
       " 'result': {'face_num': 1,\n",
       "  'face_list': [{'face_token': '1b0f7d5b31202055de911271d47f1e56',\n",
       "    'location': {'left': 354.72,\n",
       "     'top': 37.35,\n",
       "     'width': 184,\n",
       "     'height': 179,\n",
       "     'rotation': 40},\n",
       "    'face_probability': 1,\n",
       "    'angle': {'yaw': -37.61, 'pitch': -0.27, 'roll': 37.46},\n",
       "    'face_shape': {'type': 'round', 'probability': 0.67},\n",
       "    'age': 23,\n",
       "    'emotion': {'type': 'happy', 'probability': 1}}]}}"
      ]
     },
     "execution_count": 255,
     "metadata": {},
     "output_type": "execute_result"
    }
   ],
   "source": [
    "r =response.json()\n",
    "r"
   ]
  },
  {
   "cell_type": "code",
   "execution_count": 256,
   "metadata": {},
   "outputs": [],
   "source": [
    "import pandas as pd\n",
    "from pandas.io.json import json_normalize"
   ]
  },
  {
   "cell_type": "code",
   "execution_count": 257,
   "metadata": {},
   "outputs": [
    {
     "data": {
      "text/html": [
       "<div>\n",
       "<style scoped>\n",
       "    .dataframe tbody tr th:only-of-type {\n",
       "        vertical-align: middle;\n",
       "    }\n",
       "\n",
       "    .dataframe tbody tr th {\n",
       "        vertical-align: top;\n",
       "    }\n",
       "\n",
       "    .dataframe thead th {\n",
       "        text-align: right;\n",
       "    }\n",
       "</style>\n",
       "<table border=\"1\" class=\"dataframe\">\n",
       "  <thead>\n",
       "    <tr style=\"text-align: right;\">\n",
       "      <th></th>\n",
       "      <th>cached</th>\n",
       "      <th>error_code</th>\n",
       "      <th>error_msg</th>\n",
       "      <th>log_id</th>\n",
       "      <th>result.face_list</th>\n",
       "      <th>result.face_num</th>\n",
       "      <th>timestamp</th>\n",
       "    </tr>\n",
       "  </thead>\n",
       "  <tbody>\n",
       "    <tr>\n",
       "      <th>0</th>\n",
       "      <td>0</td>\n",
       "      <td>0</td>\n",
       "      <td>SUCCESS</td>\n",
       "      <td>7999841014525</td>\n",
       "      <td>[{'face_token': '1b0f7d5b31202055de911271d47f1...</td>\n",
       "      <td>1</td>\n",
       "      <td>1585806348</td>\n",
       "    </tr>\n",
       "  </tbody>\n",
       "</table>\n",
       "</div>"
      ],
      "text/plain": [
       "   cached  error_code error_msg         log_id  \\\n",
       "0       0           0   SUCCESS  7999841014525   \n",
       "\n",
       "                                    result.face_list  result.face_num  \\\n",
       "0  [{'face_token': '1b0f7d5b31202055de911271d47f1...                1   \n",
       "\n",
       "    timestamp  \n",
       "0  1585806348  "
      ]
     },
     "execution_count": 257,
     "metadata": {},
     "output_type": "execute_result"
    }
   ],
   "source": [
    "df = pd.io.json.json_normalize(r)\n",
    "df"
   ]
  },
  {
   "cell_type": "code",
   "execution_count": 258,
   "metadata": {},
   "outputs": [
    {
     "data": {
      "text/plain": [
       "{0: [{'face_token': '1b0f7d5b31202055de911271d47f1e56',\n",
       "   'location': {'left': 354.72,\n",
       "    'top': 37.35,\n",
       "    'width': 184,\n",
       "    'height': 179,\n",
       "    'rotation': 40},\n",
       "   'face_probability': 1,\n",
       "   'angle': {'yaw': -37.61, 'pitch': -0.27, 'roll': 37.46},\n",
       "   'face_shape': {'type': 'round', 'probability': 0.67},\n",
       "   'age': 23,\n",
       "   'emotion': {'type': 'happy', 'probability': 1}}]}"
      ]
     },
     "execution_count": 258,
     "metadata": {},
     "output_type": "execute_result"
    }
   ],
   "source": [
    "df[\"result.face_list\"].to_dict()"
   ]
  },
  {
   "cell_type": "code",
   "execution_count": null,
   "metadata": {},
   "outputs": [],
   "source": []
  },
  {
   "cell_type": "code",
   "execution_count": null,
   "metadata": {},
   "outputs": [],
   "source": []
  }
 ],
 "metadata": {
  "kernelspec": {
   "display_name": "Python 3",
   "language": "python",
   "name": "python3"
  },
  "language_info": {
   "codemirror_mode": {
    "name": "ipython",
    "version": 3
   },
   "file_extension": ".py",
   "mimetype": "text/x-python",
   "name": "python",
   "nbconvert_exporter": "python",
   "pygments_lexer": "ipython3",
   "version": "3.7.3"
  }
 },
 "nbformat": 4,
 "nbformat_minor": 2
}
